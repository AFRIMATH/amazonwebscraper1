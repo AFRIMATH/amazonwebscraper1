{
 "cells": [
  {
   "cell_type": "code",
   "execution_count": 28,
   "id": "3c2a6158",
   "metadata": {},
   "outputs": [],
   "source": [
    "from bs4 import BeautifulSoup\n",
    "import requests\n",
    "import smtplib\n",
    "import time \n",
    "import datetime"
   ]
  },
  {
   "cell_type": "code",
   "execution_count": 29,
   "id": "f0f79a71",
   "metadata": {},
   "outputs": [],
   "source": [
    "import smtplib"
   ]
  },
  {
   "cell_type": "code",
   "execution_count": 45,
   "id": "95e2eee5",
   "metadata": {},
   "outputs": [
    {
     "name": "stdout",
     "output_type": "stream",
     "text": [
      "<span class=\"a-size-extra-large celwidget\" id=\"productTitle\">\n",
      "            Margin of Safety: Risk-Averse Value Investing Strategies for the Thoughtful Investor\n",
      "           </span>\n",
      "<span class=\"a-size-extra-large celwidget\" id=\"productTitle\">\n",
      "            Margin of Safety: Risk-Averse Value Investing Strategies for the Thoughtful Investor\n",
      "           </span>\n"
     ]
    }
   ],
   "source": [
    "URL = 'https://www.amazon.it/Margin-Safety-Risk-Averse-Strategies-Thoughtful/dp/0887305105/ref=sr_1_5?crid=OLGJHJ1F5TIQ&keywords=margin+of+safety+seth+klarman&qid=1695754449&sprefix=MARGIN+O%2Caps%2C216&sr=8-5'\n",
    "\n",
    "headers = {\n",
    "  \"User-Agent\": \"Mozilla/5.0 (Windows NT 10.0; Win64; x64) AppleWebKit/537.36 (KHTML, like Gecko) Chrome/91.0.4472.124 Safari/537.36\"\n",
    "}\n",
    "\n",
    "page = requests.get(URL, headers=headers)\n",
    "\n",
    "page = requests.get(URL,headers = headers)\n",
    "\n",
    "soup1 = BeautifulSoup(page.content, 'html.parser')\n",
    "\n",
    "soup2 = BeautifulSoup(soup1.prettify(), 'html.parser')\n",
    "\n",
    "title_element = soup2.find(id='productTitle')  # Assuming the correct ID is 'productTitle'\n",
    "\n",
    "if title_element:\n",
    "    title = title_element.get_text().strip()\n",
    "    print(title_element)\n",
    "else:\n",
    "    print(\"Element with the given ID was not found.\")\n",
    "    \n",
    "print(title_element)\n",
    "\n"
   ]
  },
  {
   "cell_type": "code",
   "execution_count": 46,
   "id": "82852e21",
   "metadata": {},
   "outputs": [
    {
     "name": "stdout",
     "output_type": "stream",
     "text": [
      "890,00 €\n"
     ]
    }
   ],
   "source": [
    "\n",
    "import re\n",
    "\n",
    "price_element = soup2.find(id='twister')\n",
    "\n",
    "if price_element:\n",
    "    # Extract all price-like strings\n",
    "    possible_prices = re.findall(r'\\d{1,3}(?:[.,]\\d{3})*(?:[.,]\\d{2})\\s?€', price_element.get_text())\n",
    "    \n",
    "    # Assuming the first match is the desired price\n",
    "    if possible_prices:\n",
    "        price = possible_prices[0].strip()\n",
    "        print(price)\n",
    "    else:\n",
    "        print(\"Price format not found within the given element.\")\n",
    "else:\n",
    "    print(\"Element with the given ID for price was not found.\")"
   ]
  },
  {
   "cell_type": "code",
   "execution_count": 47,
   "id": "bc59d867",
   "metadata": {},
   "outputs": [
    {
     "name": "stdout",
     "output_type": "stream",
     "text": [
      "Margin of Safety: Risk-Averse Value Investing Strategies for the Thoughtful Investor\n",
      "890,00\n"
     ]
    }
   ],
   "source": [
    "title_element = title.strip() \n",
    "price_element =price.strip()[:6]\n",
    "print(title_element)\n",
    "print(price_element)"
   ]
  },
  {
   "cell_type": "code",
   "execution_count": 48,
   "id": "198f6795",
   "metadata": {},
   "outputs": [
    {
     "name": "stdout",
     "output_type": "stream",
     "text": [
      "2023-09-27\n"
     ]
    }
   ],
   "source": [
    "import datetime\n",
    "\n",
    "today = datetime.date.today()\n",
    "\n",
    "print(today)\n"
   ]
  },
  {
   "cell_type": "code",
   "execution_count": 49,
   "id": "054d452f",
   "metadata": {},
   "outputs": [],
   "source": [
    "import csv \n",
    "\n",
    "header = ['Title','Price','Date']\n",
    "data = [title, price,today]\n",
    "\n",
    "\n",
    "with open('C:\\\\Users\\\\Marco\\\\Downloads\\\\AmazonWebScraperDataset.csv', 'w', newline='', encoding='UTF8') as f:\n",
    "        writer = csv.writer(f)\n",
    "        writer.writerow(header)\n",
    "        writer.writerow(data)\n",
    "\n",
    "     "
   ]
  },
  {
   "cell_type": "code",
   "execution_count": 62,
   "id": "ca3b35cb",
   "metadata": {},
   "outputs": [
    {
     "name": "stdout",
     "output_type": "stream",
     "text": [
      "                                               Title     Price        Date\n",
      "0  Margin of Safety: Risk-Averse Value Investing ...  890,00 €  2023-09-27\n"
     ]
    }
   ],
   "source": [
    "import pandas as pd\n",
    "\n",
    "df = pd.read_csv(r'C:\\Users\\Marco\\Downloads\\AmazonWebScraperDataset.csv')\n",
    "\n",
    "def check_price():\n",
    "    URL = 'https://www.amazon.it/Margin-Safety-Risk-Averse-Strategies-Thoughtful/dp/0887305105/ref=sr_1_5?crid=OLGJHJ1F5TIQ&keywords=margin+of+safety+seth+klarman&qid=1695754449&sprefix=MARGIN+O%2Caps%2C216&sr=8-5'\n",
    "\n",
    "    headers = {\n",
    "      \"User-Agent\": \"Mozilla/5.0 (Windows NT 10.0; Win64; x64) AppleWebKit/537.36 (KHTML, like Gecko) Chrome/91.0.4472.124 Safari/537.36\"\n",
    "    }\n",
    "\n",
    "    page = requests.get(URL, headers=headers)\n",
    "    soup1 = BeautifulSoup(page.content, 'html.parser')\n",
    "    soup2 = BeautifulSoup(soup1.prettify(), 'html.parser')\n",
    "\n",
    "    title_element = soup2.find(id='productTitle')\n",
    "    if title_element:\n",
    "        title = title_element.get_text().strip()\n",
    "        print(title)\n",
    "    else:\n",
    "        print(\"Element with the given ID was not found.\")\n",
    "\n",
    "    price_element = soup2.find(id='twister')\n",
    "    if price_element:\n",
    "        # Extract all price-like strings\n",
    "        possible_prices = re.findall(r'\\d{1,3}(?:[.,]\\d{3})*(?:[.,]\\d{2})\\s?€', price_element.get_text())\n",
    "        # Assuming the first match is the desired price\n",
    "        if possible_prices:\n",
    "            price = possible_prices[0].strip()\n",
    "            print(price)\n",
    "        else:\n",
    "            print(\"Price format not found within the given element.\")\n",
    "    else:\n",
    "        print(\"Element with the given ID for price was not found.\")\n",
    "        \n",
    "    if title:\n",
    "        title_element = title.strip() \n",
    "        print(title_element)\n",
    "    if price:\n",
    "        price_element = price.strip()[:6]\n",
    "        print(price_element)\n",
    "    \n",
    "    import datetime\n",
    "    today = datetime.date.today()\n",
    "    print(today)\n",
    "\n",
    "    import csv \n",
    "    \n",
    "    header = ['Title', 'Price', 'Date']\n",
    "    \n",
    "    data = [title, price, today]\n",
    "    \n",
    "    with open('C:\\\\Users\\\\Marco\\\\Downloads\\\\AmazonWebScraperDataset.csv', 'w', newline='', encoding='UTF8') as f:\n",
    "        writer = csv.writer(f)\n",
    "        writer.writerow(data)\n",
    "        \n",
    "    if(price<100):\n",
    "        send_mail()\n",
    "      \n",
    "       \n",
    "print(df)\n"
   ]
  },
  {
   "cell_type": "code",
   "execution_count": null,
   "id": "6931c26e",
   "metadata": {},
   "outputs": [
    {
     "name": "stdout",
     "output_type": "stream",
     "text": [
      "Margin of Safety: Risk-Averse Value Investing Strategies for the Thoughtful Investor\n",
      "890,00 €\n",
      "Margin of Safety: Risk-Averse Value Investing Strategies for the Thoughtful Investor\n",
      "890,00\n",
      "2023-09-27\n"
     ]
    }
   ],
   "source": [
    "\n",
    "while(True):\n",
    "    check_price()\n",
    "    time.sleep(86400)\n",
    "\n",
    "\n"
   ]
  },
  {
   "cell_type": "code",
   "execution_count": null,
   "id": "ee3a580f",
   "metadata": {},
   "outputs": [],
   "source": [
    "import pandas as pd\n",
    "\n",
    "df = pd.read_csv(r'C:\\Users\\Marco\\Downloads\\AmazonWebScraperDataset.csv')\n",
    "\n",
    "\n",
    "print(df)\n",
    "    \n",
    "    "
   ]
  },
  {
   "cell_type": "code",
   "execution_count": 38,
   "id": "ccccc1e9",
   "metadata": {},
   "outputs": [],
   "source": [
    "# email me #my password is in XXXXXXXX replace with yours\n",
    "\n",
    "def send_mail():\n",
    "    server = smtplib.SMTP_SSL('smtp.gmail.com',465)\n",
    "    server.ehlo()\n",
    "    #server.starttls()\n",
    "    server.ehlo()\n",
    "    server.login('africani14@gmail.com','xxxxxxxxxxxxxx')\n",
    "    \n",
    "    subject = \"This is your chance to buy Margin of Safety!\"\n",
    "    body = \"Marco, the famous book price has dropped. Link here: https://www.amazon.it/Margin-Safety-Risk-Averse-Strategies-Thoughtful/dp/0887305105/ref=sr_1_5?crid=OLGJHJ1F5TIQ&keywords=margin+of+safety+seth+klarman&qid=1695754449&sprefix=MARGIN+O%2Caps%2C216&sr=8-5\"\n",
    "   \n",
    "    msg = f\"Subject: {subject}\\n\\n{body}\"\n",
    "    \n",
    "    server.sendmail(\n",
    "        'africani14@gmail.com',\n",
    "        msg\n",
    "     \n",
    "    )"
   ]
  },
  {
   "cell_type": "code",
   "execution_count": null,
   "id": "6460423a",
   "metadata": {},
   "outputs": [],
   "source": []
  }
 ],
 "metadata": {
  "kernelspec": {
   "display_name": "Python 3 (ipykernel)",
   "language": "python",
   "name": "python3"
  },
  "language_info": {
   "codemirror_mode": {
    "name": "ipython",
    "version": 3
   },
   "file_extension": ".py",
   "mimetype": "text/x-python",
   "name": "python",
   "nbconvert_exporter": "python",
   "pygments_lexer": "ipython3",
   "version": "3.11.4"
  }
 },
 "nbformat": 4,
 "nbformat_minor": 5
}
